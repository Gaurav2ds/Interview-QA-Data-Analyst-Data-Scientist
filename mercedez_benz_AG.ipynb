{
 "cells": [
  {
   "cell_type": "code",
   "execution_count": 1,
   "metadata": {},
   "outputs": [
    {
     "name": "stdout",
     "output_type": "stream",
     "text": [
      "Initial Dictionary: {'apple': 3, 'banana': 5, 'cherry': 2}\n",
      "After Modification: {'apple': 3, 'banana': 10, 'cherry': 2}\n",
      "Sorted Dictionary: {'apple': 3, 'banana': 10, 'cherry': 2}\n"
     ]
    }
   ],
   "source": [
    "# Python: 1. Build a dictionary, add items to it, modify an entry, and display it sorted by key.\n",
    "\n",
    "def build_and_modify_dict():\n",
    "    # Initialize dictionary\n",
    "    my_dict = {}\n",
    "\n",
    "    # Add items to the dictionary\n",
    "    my_dict['apple'] = 3\n",
    "    my_dict['banana'] = 5\n",
    "    my_dict['cherry'] = 2\n",
    "\n",
    "    print(\"Initial Dictionary:\", my_dict)\n",
    "\n",
    "    # Modify an entry\n",
    "    my_dict['banana'] = 10\n",
    "\n",
    "    print(\"After Modification:\", my_dict)\n",
    "\n",
    "    # Display sorted dictionary by key\n",
    "    sorted_dict = dict(sorted(my_dict.items()))\n",
    "    print(\"Sorted Dictionary:\", sorted_dict)\n",
    "\n",
    "build_and_modify_dict()\n"
   ]
  },
  {
   "cell_type": "code",
   "execution_count": 2,
   "metadata": {},
   "outputs": [
    {
     "name": "stdout",
     "output_type": "stream",
     "text": [
      "Unique values and their counts:\n",
      "1: 1\n",
      "2: 2\n",
      "3.5: 1\n",
      "4: 2\n",
      "5.5: 1\n",
      "6: 1\n"
     ]
    }
   ],
   "source": [
    "# Python: 2. Identify unique values in a list of mixed numbers and show how often each value appears.\n",
    "\n",
    "def unique_value_counts(numbers):\n",
    "    # Count occurrences manually\n",
    "    counts = {}\n",
    "    for num in numbers:\n",
    "        if num in counts:\n",
    "            counts[num] += 1\n",
    "        else:\n",
    "            counts[num] = 1\n",
    "\n",
    "    print(\"Unique values and their counts:\")\n",
    "    for value, count in counts.items():\n",
    "        print(f\"{value}: {count}\")\n",
    "\n",
    "mixed_numbers = [1, 2, 2, 3.5, 4, 4, 5.5, 6]\n",
    "unique_value_counts(mixed_numbers)\n",
    "\n"
   ]
  },
  {
   "cell_type": "code",
   "execution_count": 3,
   "metadata": {},
   "outputs": [
    {
     "name": "stdout",
     "output_type": "stream",
     "text": [
      "Duplicate values and their counts:\n",
      "2: 2\n",
      "4: 2\n"
     ]
    }
   ],
   "source": [
    "# Python: 3. Detect duplicate values in a list of mixed numbers and count their occurrences.\n",
    "\n",
    "def find_duplicates(numbers):\n",
    "    # Count occurrences manually\n",
    "    counts = {}\n",
    "    for num in numbers:\n",
    "        if num in counts:\n",
    "            counts[num] += 1\n",
    "        else:\n",
    "            counts[num] = 1\n",
    "\n",
    "    print(\"Duplicate values and their counts:\")\n",
    "    for value, count in counts.items():\n",
    "        if count > 1:\n",
    "            print(f\"{value}: {count}\")\n",
    "\n",
    "find_duplicates(mixed_numbers)\n",
    "\n"
   ]
  },
  {
   "cell_type": "code",
   "execution_count": 4,
   "metadata": {},
   "outputs": [
    {
     "name": "stdout",
     "output_type": "stream",
     "text": [
      "Error: Input cannot be empty or null.\n"
     ]
    }
   ],
   "source": [
    "# Python: 4. Develop a function to add two numbers, take user input, and handle errors such as non-numeric, empty input, or null values.\n",
    "\n",
    "def add_two_numbers():\n",
    "    try:\n",
    "        num1 = input(\"Enter the first number: \")\n",
    "        num2 = input(\"Enter the second number: \")\n",
    "\n",
    "        # Validate input\n",
    "        if not num1.strip() or not num2.strip():\n",
    "            raise ValueError(\"Input cannot be empty or null.\")\n",
    "\n",
    "        if num1.lower() == 'null' or num2.lower() == 'null':\n",
    "            raise ValueError(\"Input cannot be 'null'.\")\n",
    "\n",
    "        num1 = float(num1)\n",
    "        num2 = float(num2)\n",
    "\n",
    "        result = num1 + num2\n",
    "        print(f\"The sum of {num1} and {num2} is {result}.\")\n",
    "\n",
    "    except ValueError as e:\n",
    "        print(\"Error:\", e)\n",
    "\n",
    "add_two_numbers()\n",
    "\n"
   ]
  },
  {
   "cell_type": "code",
   "execution_count": 5,
   "metadata": {},
   "outputs": [
    {
     "data": {
      "text/plain": [
       "'\\n1. FROM: Specify the source table(s).\\n2. JOIN: Combine data from multiple tables.\\n3. WHERE: Filter rows based on conditions.\\n4. GROUP BY: Group rows by specific columns.\\n5. HAVING: Filter groups based on aggregate conditions.\\n6. SELECT: Choose columns or expressions to return.\\n7. DISTINCT: Remove duplicate rows from the result set.\\n8. ORDER BY: Sort the result set.\\n9. LIMIT/OFFSET: Restrict the number of rows returned.\\n'"
      ]
     },
     "execution_count": 5,
     "metadata": {},
     "output_type": "execute_result"
    }
   ],
   "source": [
    "# SQL: 1. Construct a SQL query to display employee and manager names using a self-join.\n",
    "\n",
    "\"\"\"\n",
    "SELECT e.name AS EmployeeName, m.name AS ManagerName\n",
    "FROM employees e\n",
    "LEFT JOIN employees m\n",
    "ON e.manager_id = m.emp_id;\n",
    "\"\"\"\n",
    "\n",
    "# SQL: 2. Describe the order of operations in a SQL query.\n",
    "\n",
    "\"\"\"\n",
    "1. FROM: Specify the source table(s).\n",
    "2. JOIN: Combine data from multiple tables.\n",
    "3. WHERE: Filter rows based on conditions.\n",
    "4. GROUP BY: Group rows by specific columns.\n",
    "5. HAVING: Filter groups based on aggregate conditions.\n",
    "6. SELECT: Choose columns or expressions to return.\n",
    "7. DISTINCT: Remove duplicate rows from the result set.\n",
    "8. ORDER BY: Sort the result set.\n",
    "9. LIMIT/OFFSET: Restrict the number of rows returned.\n",
    "\"\"\""
   ]
  }
 ],
 "metadata": {
  "kernelspec": {
   "display_name": "Python 3",
   "language": "python",
   "name": "python3"
  },
  "language_info": {
   "codemirror_mode": {
    "name": "ipython",
    "version": 3
   },
   "file_extension": ".py",
   "mimetype": "text/x-python",
   "name": "python",
   "nbconvert_exporter": "python",
   "pygments_lexer": "ipython3",
   "version": "3.12.6"
  }
 },
 "nbformat": 4,
 "nbformat_minor": 2
}
